{
 "cells": [
  {
   "cell_type": "code",
   "execution_count": 83,
   "metadata": {},
   "outputs": [],
   "source": [
    "import urllib.request\n",
    "import gensim, logging\n",
    "\n",
    "logging.basicConfig(format='%(asctime)s : %(levelname)s : %(message)s', level=logging.INFO)"
   ]
  },
  {
   "cell_type": "code",
   "execution_count": 85,
   "metadata": {},
   "outputs": [
    {
     "name": "stderr",
     "output_type": "stream",
     "text": [
      "2018-06-16 19:27:49,265 : INFO : loading projection weights from ruscorpora_upos_skipgram_300_5_2018.vec.gz\n",
      "2018-06-16 19:28:56,219 : INFO : loaded (195071, 300) matrix from ruscorpora_upos_skipgram_300_5_2018.vec.gz\n"
     ]
    }
   ],
   "source": [
    "m = 'ruscorpora_upos_skipgram_300_5_2018.vec.gz'\n",
    "if m.endswith('.vec.gz'):\n",
    "    model = gensim.models.KeyedVectors.load_word2vec_format(m, binary=False)\n",
    "elif m.endswith('.bin.gz'):\n",
    "    model = gensim.models.KeyedVectors.load_word2vec_format(m, binary=True)\n",
    "else:\n",
    "    model = gensim.models.KeyedVectors.load(m)"
   ]
  },
  {
   "cell_type": "code",
   "execution_count": 87,
   "metadata": {},
   "outputs": [
    {
     "name": "stderr",
     "output_type": "stream",
     "text": [
      "2018-06-16 19:28:56,329 : INFO : precomputing L2-norms of word weight vectors\n"
     ]
    }
   ],
   "source": [
    "model.init_sims(replace=True)"
   ]
  },
  {
   "cell_type": "code",
   "execution_count": 89,
   "metadata": {},
   "outputs": [],
   "source": [
    "words = ['концерт_NOUN', 'музыкант_NOUN', 'сингл_NOUN', 'песня_NOUN', 'альбом_NOUN']"
   ]
  },
  {
   "cell_type": "code",
   "execution_count": 91,
   "metadata": {},
   "outputs": [
    {
     "name": "stdout",
     "output_type": "stream",
     "text": [
      "концерт_NOUN\n",
      "музыкант_NOUN\n",
      "сингл_NOUN\n",
      "песня_NOUN\n",
      "альбом_NOUN\n",
      "['концерт', 'симфонический', 'концерт', 'концертный', 'гидонкремирать', 'квартетный', 'филармонический', 'квинтет', 'сольный', 'филармония', 'спектакль', 'гала', 'квартевать', 'виктортретьяк', 'продирижировать', 'скрипач', 'пианист', 'оркестр', 'певец', 'джазмен', 'гитарист', 'контрабасист', 'контрабасивать', 'инструменталист', 'дирижер', 'виолончелист', 'композитор', 'кларнетист', 'артист', 'басистый', 'ремикс', 'thebeatles', 'любэ', 'диджей', 'virgin', 'флойд', 'рэпер', 'игорьбутман', 'джорджхаррисон', 'эрикклэптон', 'юрийшевчук', 'саундтрек', 'алексейкозлов', 'андреймакаревич', 'джаз', 'песня', 'песенка', 'песня', 'петь', 'частушка', 'мелодия', 'песня', 'романс', 'напев', 'песня', 'петься', 'песнь', '<', 'поть', 'лучинушка', 'фотоальба', 'альбом', 'фотоальбом', 'альбом', 'альбом', 'альбомчик', 'бюварь', 'книжища', 'фотоальбый', 'фотография', 'кипсек', 'паспарту', 'суперобложка', 'обложка', 'альбомный']\n"
     ]
    }
   ],
   "source": [
    "from pymystem3 import Mystem\n",
    "\n",
    "m = Mystem()\n",
    "gr = []\n",
    "for word in words:\n",
    "    if word in model:\n",
    "        print(word)\n",
    "#         print(model[word][:10])\n",
    "        for i in model.most_similar(positive=[word], topn=15):\n",
    "            i = i[0].split('_')[0].replace(':','').replace('-','')\n",
    "            i = m.lemmatize(i)\n",
    "            gr.append(i[0])\n",
    "    else:\n",
    "        print(word + ' is not present in the model')\n",
    "print(gr)"
   ]
  },
  {
   "cell_type": "code",
   "execution_count": 93,
   "metadata": {},
   "outputs": [],
   "source": [
    "import urllib.request\n",
    "import ssl\n",
    "import json\n"
   ]
  },
  {
   "cell_type": "code",
   "execution_count": 95,
   "metadata": {},
   "outputs": [],
   "source": [
    "post = []\n",
    "count_dict=[]\n",
    "dict_id={}\n",
    "comments = []\n",
    "groups = ['umusic','effective_records','vkmusic','pitchfork_rus']"
   ]
  },
  {
   "cell_type": "code",
   "execution_count": 96,
   "metadata": {},
   "outputs": [],
   "source": [
    "import re"
   ]
  },
  {
   "cell_type": "code",
   "execution_count": 97,
   "metadata": {},
   "outputs": [],
   "source": [
    "m_post=''\n",
    "vocab={}\n",
    "\n",
    "def wall(group):    \n",
    "    for n in range(2):\n",
    "        num = 10*n\n",
    "        line = 'https://api.vk.com/method/wall.get?domain={}&count=100&offset={}&v=5.73&access_token=c1112bb2c1112bb2c1112bb232c175ec5ecc111c1112bb29a3041083da2009240532c92'.format(group, num)\n",
    "        req = urllib.request.Request(line)\n",
    "        response = urllib.request.urlopen(req)\n",
    "        result = response.read().decode('utf-8')\n",
    "        data = json.loads(result)\n",
    "#         print(data)\n",
    "        for i in range(99):\n",
    "            try:\n",
    "                if data['response']['items'][i]['text'] != None:\n",
    "                    post.append(data['response']['items'][i]['text'])\n",
    "            except:\n",
    "                continue\n",
    "    m_post=''.join(post)\n",
    "    regTag = re.compile('[^А-я ]')   \n",
    "    m_post = regTag.sub(\"\", m_post).strip()\n",
    "#     print(m_post)\n",
    "    diction = {}\n",
    "    for elem in gr:\n",
    "        if elem not in diction:\n",
    "            diction[elem] = 0\n",
    "    for word in m_post.split():\n",
    "        if word in diction:\n",
    "            diction[word]+=1\n",
    "        else:\n",
    "            continue\n",
    "    return diction\n",
    "        "
   ]
  },
  {
   "cell_type": "code",
   "execution_count": 98,
   "metadata": {
    "scrolled": false
   },
   "outputs": [],
   "source": [
    "import matplotlib.pyplot as plt\n",
    "\n",
    "def visual(group):\n",
    "    data = wall(group)\n",
    "    for m in data:\n",
    "        if data[m]!=0:\n",
    "            plt.bar(m, data[m])\n",
    "    plt.xlabel('Слово')\n",
    "    plt.ylabel('Частота слова')\n",
    "    plt.xticks(rotation=90)\n",
    "    plt.savefig('{}.png'.format(group),format='png',dpi=100)\n",
    "    plt.show()"
   ]
  },
  {
   "cell_type": "code",
   "execution_count": 70,
   "metadata": {},
   "outputs": [],
   "source": [
    "from flask import Flask\n",
    "from flask import url_for, render_template, request, redirect"
   ]
  },
  {
   "cell_type": "code",
   "execution_count": 71,
   "metadata": {},
   "outputs": [],
   "source": [
    "app = Flask(__name__)"
   ]
  },
  {
   "cell_type": "code",
   "execution_count": 72,
   "metadata": {},
   "outputs": [],
   "source": [
    "@app.route('/')\n",
    "def index():\n",
    "    for group in groups:\n",
    "        print(visual(group))\n",
    "    return render_template('description.html')"
   ]
  },
  {
   "cell_type": "code",
   "execution_count": 74,
   "metadata": {},
   "outputs": [],
   "source": [
    "@app.route('/result')\n",
    "def result():\n",
    "    if request.args:\n",
    "        print(visual(request.args['domain']))"
   ]
  },
  {
   "cell_type": "code",
   "execution_count": null,
   "metadata": {},
   "outputs": [],
   "source": [
    "if __name__ == '__main__':\n",
    "    app.run(debug=True)"
   ]
  },
  {
   "cell_type": "code",
   "execution_count": 99,
   "metadata": {},
   "outputs": [
    {
     "data": {
      "image/png": "[encoded data removed]",
      "text/plain": [
       "<matplotlib.figure.Figure at 0x1573a432c88>"
      ]
     },
     "metadata": {},
     "output_type": "display_data"
    },
    {
     "name": "stdout",
     "output_type": "stream",
     "text": [
      "None\n"
     ]
    },
    {
     "data": {
      "image/png": "[encoded data removed]",
      "text/plain": [
       "<matplotlib.figure.Figure at 0x1573a68d198>"
      ]
     },
     "metadata": {},
     "output_type": "display_data"
    },
    {
     "name": "stdout",
     "output_type": "stream",
     "text": [
      "None\n"
     ]
    },
    {
     "data": {
      "image/png": "[encoded data removed]",
      "text/plain": [
       "<matplotlib.figure.Figure at 0x1573a3cacc0>"
      ]
     },
     "metadata": {},
     "output_type": "display_data"
    },
    {
     "name": "stdout",
     "output_type": "stream",
     "text": [
      "None\n"
     ]
    },
    {
     "data": {
      "image/png": "[encoded data removed]",
      "text/plain": [
       "<matplotlib.figure.Figure at 0x1573a580518>"
      ]
     },
     "metadata": {},
     "output_type": "display_data"
    },
    {
     "name": "stdout",
     "output_type": "stream",
     "text": [
      "None\n"
     ]
    }
   ],
   "source": [
    "for group in groups:\n",
    "        print(visual(group))"
   ]
  },
  {
   "cell_type": "code",
   "execution_count": null,
   "metadata": {},
   "outputs": [],
   "source": []
  }
 ],
 "metadata": {
  "kernelspec": {
   "display_name": "Python 3",
   "language": "python",
   "name": "python3"
  },
  "language_info": {
   "codemirror_mode": {
    "name": "ipython",
    "version": 3
   },
   "file_extension": ".py",
   "mimetype": "text/x-python",
   "name": "python",
   "nbconvert_exporter": "python",
   "pygments_lexer": "ipython3",
   "version": "3.6.4"
  }
 },
 "nbformat": 4,
 "nbformat_minor": 2
}
