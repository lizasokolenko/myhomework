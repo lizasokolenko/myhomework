{
  "nbformat": 4,
  "nbformat_minor": 0,
  "metadata": {
    "colab": {
      "name": "DZ3.ipynb",
      "version": "0.3.2",
      "provenance": [],
      "collapsed_sections": []
    },
    "kernelspec": {
      "name": "python3",
      "display_name": "Python 3"
    },
    "accelerator": "GPU"
  },
  "cells": [
    {
      "cell_type": "markdown",
      "metadata": {
        "id": "view-in-github",
        "colab_type": "text"
      },
      "source": [
        "<a href=\"https://colab.research.google.com/github/mannefedov/compling_nlp_hse_course/blob/master/notebooks/morpho_disamb.ipynb\" target=\"_parent\"><img src=\"https://colab.research.google.com/assets/colab-badge.svg\" alt=\"Open In Colab\"/></a>"
      ]
    },
    {
      "cell_type": "markdown",
      "metadata": {
        "id": "t6g4DGAj9BMp",
        "colab_type": "text"
      },
      "source": [
        "Скачиваем нужные файлы по инструкции."
      ]
    },
    {
      "cell_type": "code",
      "metadata": {
        "id": "QJSOrmGM80vJ",
        "colab_type": "code",
        "outputId": "ab5624e7-17fe-479a-fead-535036849852",
        "colab": {
          "base_uri": "https://localhost:8080/",
          "height": 284
        }
      },
      "source": [
        "!wget http://www.cis.uni-muenchen.de/~schmid/tools/TreeTagger/data/tree-tagger-linux-3.2.2.tar.gz"
      ],
      "execution_count": 1,
      "outputs": [
        {
          "output_type": "stream",
          "text": [
            "--2019-06-11 14:32:46--  http://www.cis.uni-muenchen.de/~schmid/tools/TreeTagger/data/tree-tagger-linux-3.2.2.tar.gz\n",
            "Resolving www.cis.uni-muenchen.de (www.cis.uni-muenchen.de)... 129.187.148.72, 2001:4ca0:4f01::5\n",
            "Connecting to www.cis.uni-muenchen.de (www.cis.uni-muenchen.de)|129.187.148.72|:80... connected.\n",
            "HTTP request sent, awaiting response... 302 Found\n",
            "Location: https://www.cis.uni-muenchen.de/~schmid/tools/TreeTagger/data/tree-tagger-linux-3.2.2.tar.gz [following]\n",
            "--2019-06-11 14:32:46--  https://www.cis.uni-muenchen.de/~schmid/tools/TreeTagger/data/tree-tagger-linux-3.2.2.tar.gz\n",
            "Connecting to www.cis.uni-muenchen.de (www.cis.uni-muenchen.de)|129.187.148.72|:443... connected.\n",
            "HTTP request sent, awaiting response... 200 OK\n",
            "Length: 1821366 (1.7M) [application/x-gzip]\n",
            "Saving to: ‘tree-tagger-linux-3.2.2.tar.gz.6’\n",
            "\n",
            "tree-tagger-linux-3 100%[===================>]   1.74M   987KB/s    in 1.8s    \n",
            "\n",
            "2019-06-11 14:32:49 (987 KB/s) - ‘tree-tagger-linux-3.2.2.tar.gz.6’ saved [1821366/1821366]\n",
            "\n"
          ],
          "name": "stdout"
        }
      ]
    },
    {
      "cell_type": "code",
      "metadata": {
        "id": "uAH8K4T_5z8o",
        "colab_type": "code",
        "outputId": "35472dcb-a5b5-4002-de06-0b34b28af383",
        "colab": {
          "base_uri": "https://localhost:8080/",
          "height": 284
        }
      },
      "source": [
        "!wget http://www.cis.uni-muenchen.de/~schmid/tools/TreeTagger/data/tagger-scripts.tar.gz"
      ],
      "execution_count": 2,
      "outputs": [
        {
          "output_type": "stream",
          "text": [
            "--2019-06-11 14:33:01--  http://www.cis.uni-muenchen.de/~schmid/tools/TreeTagger/data/tagger-scripts.tar.gz\n",
            "Resolving www.cis.uni-muenchen.de (www.cis.uni-muenchen.de)... 129.187.148.72, 2001:4ca0:4f01::5\n",
            "Connecting to www.cis.uni-muenchen.de (www.cis.uni-muenchen.de)|129.187.148.72|:80... connected.\n",
            "HTTP request sent, awaiting response... 302 Found\n",
            "Location: https://www.cis.uni-muenchen.de/~schmid/tools/TreeTagger/data/tagger-scripts.tar.gz [following]\n",
            "--2019-06-11 14:33:02--  https://www.cis.uni-muenchen.de/~schmid/tools/TreeTagger/data/tagger-scripts.tar.gz\n",
            "Connecting to www.cis.uni-muenchen.de (www.cis.uni-muenchen.de)|129.187.148.72|:443... connected.\n",
            "HTTP request sent, awaiting response... 200 OK\n",
            "Length: 101810 (99K) [application/x-gzip]\n",
            "Saving to: ‘tagger-scripts.tar.gz.6’\n",
            "\n",
            "tagger-scripts.tar. 100%[===================>]  99.42K   167KB/s    in 0.6s    \n",
            "\n",
            "2019-06-11 14:33:04 (167 KB/s) - ‘tagger-scripts.tar.gz.6’ saved [101810/101810]\n",
            "\n"
          ],
          "name": "stdout"
        }
      ]
    },
    {
      "cell_type": "code",
      "metadata": {
        "id": "8SJ8rbYf5z-e",
        "colab_type": "code",
        "outputId": "f572936a-5951-4a76-921b-77b44545b468",
        "colab": {
          "base_uri": "https://localhost:8080/",
          "height": 284
        }
      },
      "source": [
        "!wget http://www.cis.uni-muenchen.de/~schmid/tools/TreeTagger/data/install-tagger.sh"
      ],
      "execution_count": 3,
      "outputs": [
        {
          "output_type": "stream",
          "text": [
            "--2019-06-11 14:33:31--  http://www.cis.uni-muenchen.de/~schmid/tools/TreeTagger/data/install-tagger.sh\n",
            "Resolving www.cis.uni-muenchen.de (www.cis.uni-muenchen.de)... 129.187.148.72, 2001:4ca0:4f01::5\n",
            "Connecting to www.cis.uni-muenchen.de (www.cis.uni-muenchen.de)|129.187.148.72|:80... connected.\n",
            "HTTP request sent, awaiting response... 302 Found\n",
            "Location: https://www.cis.uni-muenchen.de/~schmid/tools/TreeTagger/data/install-tagger.sh [following]\n",
            "--2019-06-11 14:33:31--  https://www.cis.uni-muenchen.de/~schmid/tools/TreeTagger/data/install-tagger.sh\n",
            "Connecting to www.cis.uni-muenchen.de (www.cis.uni-muenchen.de)|129.187.148.72|:443... connected.\n",
            "HTTP request sent, awaiting response... 200 OK\n",
            "Length: 12417 (12K) [application/x-shellscript]\n",
            "Saving to: ‘install-tagger.sh.6’\n",
            "\n",
            "install-tagger.sh.6 100%[===================>]  12.13K  --.-KB/s    in 0s      \n",
            "\n",
            "2019-06-11 14:33:32 (206 MB/s) - ‘install-tagger.sh.6’ saved [12417/12417]\n",
            "\n"
          ],
          "name": "stdout"
        }
      ]
    },
    {
      "cell_type": "code",
      "metadata": {
        "id": "n__NxBzk50DC",
        "colab_type": "code",
        "outputId": "016414ba-b7dc-47af-ccaf-14bb69ce8044",
        "colab": {
          "base_uri": "https://localhost:8080/",
          "height": 284
        }
      },
      "source": [
        "!wget http://www.cis.uni-muenchen.de/~schmid/tools/TreeTagger/data/russian.par.gz"
      ],
      "execution_count": 4,
      "outputs": [
        {
          "output_type": "stream",
          "text": [
            "--2019-06-11 14:34:01--  http://www.cis.uni-muenchen.de/~schmid/tools/TreeTagger/data/russian.par.gz\n",
            "Resolving www.cis.uni-muenchen.de (www.cis.uni-muenchen.de)... 129.187.148.72, 2001:4ca0:4f01::5\n",
            "Connecting to www.cis.uni-muenchen.de (www.cis.uni-muenchen.de)|129.187.148.72|:80... connected.\n",
            "HTTP request sent, awaiting response... 302 Found\n",
            "Location: https://www.cis.uni-muenchen.de/~schmid/tools/TreeTagger/data/russian.par.gz [following]\n",
            "--2019-06-11 14:34:01--  https://www.cis.uni-muenchen.de/~schmid/tools/TreeTagger/data/russian.par.gz\n",
            "Connecting to www.cis.uni-muenchen.de (www.cis.uni-muenchen.de)|129.187.148.72|:443... connected.\n",
            "HTTP request sent, awaiting response... 200 OK\n",
            "Length: 115748255 (110M) [application/x-gzip]\n",
            "Saving to: ‘russian.par.gz.6’\n",
            "\n",
            "russian.par.gz.6    100%[===================>] 110.39M  10.2MB/s    in 13s     \n",
            "\n",
            "2019-06-11 14:34:16 (8.52 MB/s) - ‘russian.par.gz.6’ saved [115748255/115748255]\n",
            "\n"
          ],
          "name": "stdout"
        }
      ]
    },
    {
      "cell_type": "markdown",
      "metadata": {
        "id": "zUTvm68R9Qz8",
        "colab_type": "text"
      },
      "source": [
        "Устанавливаем."
      ]
    },
    {
      "cell_type": "code",
      "metadata": {
        "id": "Y_Zl4nv050G0",
        "colab_type": "code",
        "outputId": "3569c857-2ac0-4c0c-a3b4-6383453f55ac",
        "colab": {
          "base_uri": "https://localhost:8080/",
          "height": 250
        }
      },
      "source": [
        "!sh install-tagger.sh"
      ],
      "execution_count": 5,
      "outputs": [
        {
          "output_type": "stream",
          "text": [
            "mkdir: cannot create directory ‘cmd’: File exists\n",
            "mkdir: cannot create directory ‘lib’: File exists\n",
            "mkdir: cannot create directory ‘bin’: File exists\n",
            "mkdir: cannot create directory ‘doc’: File exists\n",
            "\n",
            "TreeTagger version for PC-Linux installed.\n",
            "Tagging scripts installed.\n",
            "Russian parameter file installed.\n",
            "Path variables modified in tagging scripts.\n",
            "\n",
            "You might want to add /content/cmd and /content/bin to the PATH variable so that you do not need to specify the full path to run the tagging scripts.\n",
            "\n"
          ],
          "name": "stdout"
        }
      ]
    },
    {
      "cell_type": "markdown",
      "metadata": {
        "id": "83EIeB1j9TR4",
        "colab_type": "text"
      },
      "source": [
        "Предобученная модель для русского уже есть. Можно потестить."
      ]
    },
    {
      "cell_type": "code",
      "metadata": {
        "id": "opn4plRc50Ij",
        "colab_type": "code",
        "outputId": "41b42cd8-810a-4ea2-d490-f4ab6274c95a",
        "colab": {
          "base_uri": "https://localhost:8080/",
          "height": 159
        }
      },
      "source": [
        "!echo 'Я хочу съесть яблоко!' | cmd/tree-tagger-russian "
      ],
      "execution_count": 6,
      "outputs": [
        {
          "output_type": "stream",
          "text": [
            "\treading parameters ...\n",
            "\ttagging ...\n",
            "Я\tP-1-snn\tя\n",
            "хочу\tVmip1s-a-e\tхотеть\n",
            "съесть\tVmn----a-p\tсъесть\n",
            "яблоко\tNcnsan\tяблоко\n",
            "!\tSENT\t!\n",
            "\t finished.\n"
          ],
          "name": "stdout"
        }
      ]
    },
    {
      "cell_type": "markdown",
      "metadata": {
        "id": "Va0btbvi9Y55",
        "colab_type": "text"
      },
      "source": [
        "Но тэги тут странноватые. Чтобы оценить это все на нашем корпусе, нужно будет обучить модель заново."
      ]
    },
    {
      "cell_type": "code",
      "metadata": {
        "id": "M0V-1lxg50NF",
        "colab_type": "code",
        "outputId": "9b5fc235-4ccf-4229-f060-a7d3b71291ea",
        "colab": {
          "base_uri": "https://localhost:8080/",
          "height": 212
        }
      },
      "source": [
        "!wget http://opencorpora.org/files/export/annot/annot.opcorpora.no_ambig_strict.xml.zip"
      ],
      "execution_count": 7,
      "outputs": [
        {
          "output_type": "stream",
          "text": [
            "--2019-06-11 14:34:45--  http://opencorpora.org/files/export/annot/annot.opcorpora.no_ambig_strict.xml.zip\n",
            "Resolving opencorpora.org (opencorpora.org)... 148.251.2.141\n",
            "Connecting to opencorpora.org (opencorpora.org)|148.251.2.141|:80... connected.\n",
            "HTTP request sent, awaiting response... 200 OK\n",
            "Length: 2194522 (2.1M) [application/zip]\n",
            "Saving to: ‘annot.opcorpora.no_ambig_strict.xml.zip.6’\n",
            "\n",
            "annot.opcorpora.no_ 100%[===================>]   2.09M  1023KB/s    in 2.1s    \n",
            "\n",
            "2019-06-11 14:34:48 (1023 KB/s) - ‘annot.opcorpora.no_ambig_strict.xml.zip.6’ saved [2194522/2194522]\n",
            "\n"
          ],
          "name": "stdout"
        }
      ]
    },
    {
      "cell_type": "code",
      "metadata": {
        "id": "JHLr7nmv-F3c",
        "colab_type": "code",
        "outputId": "31de6bc9-9d57-4a38-d07b-4c4b3d9a5094",
        "colab": {
          "base_uri": "https://localhost:8080/",
          "height": 70
        }
      },
      "source": [
        "!unzip annot.opcorpora.no_ambig_strict.xml.zip"
      ],
      "execution_count": 8,
      "outputs": [
        {
          "output_type": "stream",
          "text": [
            "Archive:  annot.opcorpora.no_ambig_strict.xml.zip\n",
            "replace annot.opcorpora.no_ambig_strict.xml? [y]es, [n]o, [A]ll, [N]one, [r]ename: y\n",
            "  inflating: annot.opcorpora.no_ambig_strict.xml  \n"
          ],
          "name": "stdout"
        }
      ]
    },
    {
      "cell_type": "code",
      "metadata": {
        "id": "dh8OpwE5-F6h",
        "colab_type": "code",
        "colab": {}
      },
      "source": [
        "from lxml import etree\n",
        "from collections import defaultdict"
      ],
      "execution_count": 0,
      "outputs": []
    },
    {
      "cell_type": "code",
      "metadata": {
        "id": "GCuVu_w9-bC2",
        "colab_type": "code",
        "colab": {}
      },
      "source": [
        "open_corpora = etree.fromstring(open('annot.opcorpora.no_ambig_strict.xml', 'rb').read())"
      ],
      "execution_count": 0,
      "outputs": []
    },
    {
      "cell_type": "code",
      "metadata": {
        "id": "TagPnY0yeu9C",
        "colab_type": "code",
        "colab": {}
      },
      "source": [
        "corpus = open('corpus_train.txt', 'w')\n",
        "vocab = defaultdict(set)\n",
        "tags = set()\n",
        "\n",
        "for sentence in open_corpora.xpath('//tokens'):\n",
        "    length = len(sentence.xpath('token'))\n",
        "    ended = False\n",
        "    for i,token in enumerate(sentence.xpath('token')):\n",
        "        word = token.xpath('@text')\n",
        "        gram_info = token.xpath('tfr/v/l/g/@v')\n",
        "        \n",
        "        if (i+1)==length and gram_info[0] == 'PNCT':\n",
        "            gram_info = ['SENT']\n",
        "            ended = True\n",
        "        \n",
        "            \n",
        "        corpus.write(word[0] + '\\t' + ','.join(gram_info) + '\\n')\n",
        "        lemma = token.xpath('tfr/v/l/@t')[0]\n",
        "        vocab[word[0].lower()].add((','.join(gram_info), lemma.lower()))\n",
        "        tags.add(','.join(gram_info))\n",
        "    \n",
        "    if not ended:\n",
        "        corpus.write('.\\tSENT\\n')"
      ],
      "execution_count": 0,
      "outputs": []
    },
    {
      "cell_type": "markdown",
      "metadata": {
        "id": "WByj2MOSRR73",
        "colab_type": "text"
      },
      "source": [
        "Делим файл на 3 части"
      ]
    },
    {
      "cell_type": "code",
      "metadata": {
        "id": "xb3HD9o7OjJo",
        "colab_type": "code",
        "colab": {}
      },
      "source": [
        "def cross_valid(open_corp, corp, tag, voc, corp_test):\n",
        "  for sentence in open_corp:\n",
        "    length = len(sentence.xpath('token'))\n",
        "    ended = False\n",
        "    for i,token in enumerate(sentence.xpath('token')):\n",
        "        word = token.xpath('@text')\n",
        "        gram_info = token.xpath('tfr/v/l/g/@v')\n",
        "        \n",
        "        if (i+1)==length and gram_info[0] == 'PNCT':\n",
        "            gram_info = ['SENT']\n",
        "            ended = True\n",
        "        \n",
        "            \n",
        "        corp.write(word[0] + '\\t' + ','.join(gram_info) + '\\n')\n",
        "        corp_test.write(word[0] + '\\n')\n",
        "        lemma = token.xpath('tfr/v/l/@t')[0]\n",
        "        voc[word[0].lower()].add((','.join(gram_info), lemma.lower()))\n",
        "        tag.add(','.join(gram_info))\n",
        "    \n",
        "    if not ended:\n",
        "        corp.write('.\\tSENT\\n')\n",
        "  "
      ],
      "execution_count": 0,
      "outputs": []
    },
    {
      "cell_type": "code",
      "metadata": {
        "id": "PWp7bYeD-bEg",
        "colab_type": "code",
        "colab": {}
      },
      "source": [
        "open_corpora0 = open_corpora.xpath('//tokens')[:3533]\n",
        "open_corpora1 = open_corpora.xpath('//tokens')[3533:7066]\n",
        "open_corpora2 = open_corpora.xpath('//tokens')[7066:]\n",
        "\n",
        "corpus_test0 = open('corpus_test0.txt', 'w')\n",
        "corpus_test1 = open('corpus_test1.txt', 'w')\n",
        "corpus_test2 = open('corpus_test2.txt', 'w')\n",
        "\n",
        "corp0 = open('corpus_train0.txt', 'w')\n",
        "corp1 = open('corpus_train1.txt', 'w')\n",
        "corp2 = open('corpus_train2.txt', 'w')\n",
        "\n",
        "vocab0 = defaultdict(set)\n",
        "vocab1 = defaultdict(set)\n",
        "vocab2 = defaultdict(set)\n",
        "\n",
        "tags0 = set()\n",
        "tags1 = set()\n",
        "tags2 = set()\n",
        "\n",
        "cross_valid(open_corpora0, corp0, tags0, vocab0, corpus_test0)\n",
        "cross_valid(open_corpora1, corp1, tags1, vocab1, corpus_test1)\n",
        "cross_valid(open_corpora2, corp2, tags2, vocab2, corpus_test2)"
      ],
      "execution_count": 0,
      "outputs": []
    },
    {
      "cell_type": "code",
      "metadata": {
        "id": "3AaHkj3IWOlJ",
        "colab_type": "code",
        "colab": {}
      },
      "source": [
        "f0 = open('lexicon0.txt', 'w')\n",
        "f1 = open('lexicon1.txt', 'w')\n",
        "f2 = open('lexicon2.txt', 'w')\n",
        "f3 = open('lexicon.txt', 'w')"
      ],
      "execution_count": 0,
      "outputs": []
    },
    {
      "cell_type": "code",
      "metadata": {
        "id": "iklaMwqPSOlU",
        "colab_type": "code",
        "colab": {}
      },
      "source": [
        "def lex(voc, f):\n",
        "  for word in voc:\n",
        "    f.write(word + '\\t')\n",
        "    f.write('\\t'.join([' '.join(pair) for pair in voc[word]]))\n",
        "    f.write('\\n')\n",
        "  f.close()\n",
        "  \n",
        "  "
      ],
      "execution_count": 0,
      "outputs": []
    },
    {
      "cell_type": "code",
      "metadata": {
        "id": "KewuGemXWd1B",
        "colab_type": "code",
        "colab": {}
      },
      "source": [
        "lex(vocab0, f0)\n",
        "lex(vocab1, f1)\n",
        "lex(vocab2, f2)\n",
        "lex(vocab, f3)"
      ],
      "execution_count": 0,
      "outputs": []
    },
    {
      "cell_type": "code",
      "metadata": {
        "id": "TUp4qjR2XVig",
        "colab_type": "code",
        "colab": {}
      },
      "source": [
        "file_train01 = open('lexicon01.txt', 'w')\n",
        "file_train12 = open('lexicon12.txt', 'w')\n",
        "file_train02 = open('lexicon02.txt', 'w')"
      ],
      "execution_count": 0,
      "outputs": []
    },
    {
      "cell_type": "code",
      "metadata": {
        "id": "xl6zPUQWXA7n",
        "colab_type": "code",
        "colab": {}
      },
      "source": [
        "def train_files(file1, file2, file_train):\n",
        "  file1 = open(file1, 'r')\n",
        "  file1 = file1.read()\n",
        "  file2 = open(file2, 'r')\n",
        "  file2 = file2.read()\n",
        "  file_train.write(file1 + file2)\n",
        "  file_train.close()  "
      ],
      "execution_count": 0,
      "outputs": []
    },
    {
      "cell_type": "code",
      "metadata": {
        "id": "Yz2ajEayZOnk",
        "colab_type": "code",
        "colab": {}
      },
      "source": [
        "train_files('lexicon0.txt', 'lexicon1.txt', file_train01)\n",
        "train_files('lexicon1.txt', 'lexicon2.txt', file_train12)\n",
        "train_files('lexicon0.txt', 'lexicon2.txt', file_train02)"
      ],
      "execution_count": 0,
      "outputs": []
    },
    {
      "cell_type": "markdown",
      "metadata": {
        "id": "IoUI-i1A9yS1",
        "colab_type": "text"
      },
      "source": [
        "Словарь для UNK создаем по инструкции."
      ]
    },
    {
      "cell_type": "code",
      "metadata": {
        "id": "T7hDWfKHawgY",
        "colab_type": "code",
        "colab": {}
      },
      "source": [
        "class0 = open('open_class0.txt', 'w')\n",
        "class1 = open('open_class1.txt', 'w')\n",
        "class2 = open('open_class2.txt', 'w')"
      ],
      "execution_count": 0,
      "outputs": []
    },
    {
      "cell_type": "code",
      "metadata": {
        "id": "clq3nPLze-1a",
        "colab_type": "code",
        "colab": {}
      },
      "source": [
        "class_all = open('open_class.txt', 'w')"
      ],
      "execution_count": 0,
      "outputs": []
    },
    {
      "cell_type": "code",
      "metadata": {
        "id": "JbSTjjMHa4Fb",
        "colab_type": "code",
        "colab": {}
      },
      "source": [
        "def make_tags(classs, tags):\n",
        "  classs.write('\\n'.join([tag for tag in tags if 'NOUN' in tag or 'VERB' in tag or 'ADJF' in tag]))\n",
        "  classs.close()"
      ],
      "execution_count": 0,
      "outputs": []
    },
    {
      "cell_type": "code",
      "metadata": {
        "id": "TY9W8dELfFYs",
        "colab_type": "code",
        "colab": {}
      },
      "source": [
        "make_tags(class_all, tags)"
      ],
      "execution_count": 0,
      "outputs": []
    },
    {
      "cell_type": "code",
      "metadata": {
        "id": "9Yv1AYWvbS1n",
        "colab_type": "code",
        "colab": {}
      },
      "source": [
        "make_tags(class0, tags0)\n",
        "make_tags(class1, tags1)\n",
        "make_tags(class2, tags2)"
      ],
      "execution_count": 0,
      "outputs": []
    },
    {
      "cell_type": "code",
      "metadata": {
        "id": "d1MbTCEKG4gj",
        "colab_type": "code",
        "colab": {}
      },
      "source": [
        "class01 = open('open_class01.txt', 'w')\n",
        "class12 = open('open_class12.txt', 'w')\n",
        "class02 = open('open_class02.txt', 'w')\n",
        "\n",
        "train_files('open_class0.txt', 'open_class1.txt', class01)\n",
        "train_files('open_class1.txt', 'open_class2.txt', class12)\n",
        "train_files('open_class0.txt', 'open_class2.txt', class02)"
      ],
      "execution_count": 0,
      "outputs": []
    },
    {
      "cell_type": "code",
      "metadata": {
        "id": "D1CDKQgbcQtE",
        "colab_type": "code",
        "colab": {}
      },
      "source": [
        "corpus_train01 = open('corpus_train01.txt', 'w')\n",
        "corpus_train12 = open('corpus_train12.txt', 'w')\n",
        "corpus_train02 = open('corpus_train02.txt', 'w')\n",
        "\n",
        "\n",
        "train_files('corpus_train0.txt', 'corpus_train1.txt', corpus_train01)\n",
        "train_files('corpus_train1.txt', 'corpus_train2.txt', corpus_train12)\n",
        "train_files('corpus_train0.txt', 'corpus_train2.txt', corpus_train02)\n"
      ],
      "execution_count": 0,
      "outputs": []
    },
    {
      "cell_type": "code",
      "metadata": {
        "id": "nr5682FJZlVS",
        "colab_type": "code",
        "colab": {}
      },
      "source": [
        "def new_train(train_file, new_test_file):\n",
        "  with open(train_file, 'r') as t:\n",
        "    t = t.readlines()\n",
        "  with open(new_test_file, 'w') as new_t:\n",
        "    for el in t:\n",
        "      new_t.write('\\n' + el.split()[0])"
      ],
      "execution_count": 0,
      "outputs": []
    },
    {
      "cell_type": "code",
      "metadata": {
        "id": "FMZ-mnU0Z-lv",
        "colab_type": "code",
        "colab": {}
      },
      "source": [
        "new_train('corpus_train0.txt', 'corp_test0.txt')\n",
        "new_train('corpus_train1.txt', 'corp_test1.txt')\n",
        "new_train('corpus_train2.txt', 'corp_test2.txt')"
      ],
      "execution_count": 0,
      "outputs": []
    },
    {
      "cell_type": "markdown",
      "metadata": {
        "id": "C-QgRvn9908G",
        "colab_type": "text"
      },
      "source": [
        "Обучаем."
      ]
    },
    {
      "cell_type": "code",
      "metadata": {
        "id": "W3J535DI-bMy",
        "colab_type": "code",
        "outputId": "0c4a8dca-5ab9-43eb-c73b-7c0a1a0fc4d8",
        "colab": {
          "base_uri": "https://localhost:8080/",
          "height": 444
        }
      },
      "source": [
        "!./bin/train-tree-tagger lexicon.txt open_class.txt corpus_train01.txt model_oc "
      ],
      "execution_count": 114,
      "outputs": [
        {
          "output_type": "stream",
          "text": [
            "\n",
            "train-tree-tagger -cl 2 -dtg 0.50 -sw 1.00 -ecw 0.15 -atg 1.20 lexicon.txt open_class.txt corpus_train01.txt model_oc\n",
            "\n",
            "\treading the lexicon ...\n",
            "\t\treading the tagset ...\n",
            "\t\treading the lemmas ...\n",
            "\t\treading the entries ...\n",
            "\t\tsorting the lexicon ...\n",
            "\t\treading the open class tags ...\n",
            "\tcalculating tag frequencies ...\n",
            "\r1000\r2000\r3000\r4000\r5000\r6000\r7000\r8000\r9000\r10000\r11000\r12000\r13000\r14000\r15000\r16000\r17000\r18000\r19000\r20000\r21000\r22000\r23000\r24000\r25000\r26000\r27000\r28000\r29000\r30000\r31000\r32000\r33000\r34000\r35000\r36000\r37000\r38000\r39000\r40000\r41000\r42000\tmaking affix tree ...\n",
            "prefix lexicon: 806 nodes\n",
            "suffix lexicon: 1802 nodes\n",
            "\treading classes ...\n",
            "\tmaking ngram table ...\n",
            "\r1000\t943\r2000\t1734\r3000\t2524\r4000\t3306\r5000\t3893\r6000\t4601\r7000\t5248\r8000\t5815\r9000\t6497\r10000\t7176\r11000\t7832\r12000\t8481\r13000\t9117\r14000\t9726\r15000\t10326\r16000\t10838\r17000\t11403\r18000\t12028\r19000\t12516\r20000\t13106\r21000\t13706\r22000\t14293\r23000\t14802\r24000\t15353\r25000\t15898\r26000\t16444\r27000\t17023\r28000\t17567\r29000\t18099\r30000\t18631\r31000\t19119\r32000\t19623\r33000\t20143\r34000\t20530\r35000\t21043\r36000\t21568\r37000\t22020\r38000\t22417\r39000\t22840\r40000\t23175\r41000\t23611\r42000\t23938\r43000\t24411\r44000\t24714\r45000\t24911\r46000\t25250\r47000\t25579\r48000\t25982\r49000\t26353\r50000\t26782\r51000\t27149\r51817\t27460\n",
            "finished.\n",
            "\tmaking decision tree ...\n",
            "82\tsaving parameters ...\n",
            "\n",
            "Number of nodes: 83\n",
            "Max. path length: 14\n",
            "\n",
            "done.\n"
          ],
          "name": "stdout"
        }
      ]
    },
    {
      "cell_type": "markdown",
      "metadata": {
        "id": "9G_X1NAd93Cy",
        "colab_type": "text"
      },
      "source": [
        "Предиктим."
      ]
    },
    {
      "cell_type": "code",
      "metadata": {
        "id": "9tsgrLND-bOu",
        "colab_type": "code",
        "outputId": "e213a432-ab43-4718-c4fb-b4d159010f89",
        "colab": {
          "base_uri": "https://localhost:8080/",
          "height": 70
        }
      },
      "source": [
        "!./bin/tree-tagger model_oc corp_test2.txt output0.txt"
      ],
      "execution_count": 149,
      "outputs": [
        {
          "output_type": "stream",
          "text": [
            "\treading parameters ...\n",
            "\ttagging ...\n",
            "\r1000\r2000\r3000\r4000\r5000\r6000\r7000\r8000\r9000\r10000\r11000\r12000\r13000\r14000\r15000\r16000\r17000\r18000\r19000\t finished.\n"
          ],
          "name": "stdout"
        }
      ]
    },
    {
      "cell_type": "code",
      "metadata": {
        "id": "bbhcGA9pwnQ5",
        "colab_type": "code",
        "colab": {}
      },
      "source": [
        "def pred(train, outp):  \n",
        "  real_mass = []\n",
        "  real = open(train, 'r')\n",
        "  real = real.readlines()\n",
        "  for line in real:\n",
        "    line = line.split('\\t')\n",
        "    voc = [line[0], line[1].split(',')]\n",
        "    real_mass.append(voc)\n",
        "  output_mass = []\n",
        "  output = open(outp, 'r')\n",
        "  output = output.readlines()\n",
        "  for line in output:\n",
        "    output_mass.append(line.split(','))\n",
        "  preds = []\n",
        "  mistakes = Counter()\n",
        "  for i in range(len(real_mass)):\n",
        "    p = len(set(output_mass[i])&set(real_mass[i][1]))/len(set(output_mass[i])|set(real_mass[i][1]))\n",
        "    preds.append(p)\n",
        "    if p < 0.5:\n",
        "      mistakes.update([(real_mass[i][0], tuple(output_mass[i]), tuple(real_mass[i][1]))])\n",
        "  return preds, mistakes.most_common(10)"
      ],
      "execution_count": 0,
      "outputs": []
    },
    {
      "cell_type": "code",
      "metadata": {
        "id": "XzFj_QFmO1cA",
        "colab_type": "code",
        "colab": {}
      },
      "source": [
        "pr0 = pred('corpus_train2.txt', 'output0.txt')"
      ],
      "execution_count": 0,
      "outputs": []
    },
    {
      "cell_type": "code",
      "metadata": {
        "id": "gcLIlYusu2qy",
        "colab_type": "code",
        "colab": {}
      },
      "source": [
        "import collections \n",
        "from collections import Counter"
      ],
      "execution_count": 0,
      "outputs": []
    },
    {
      "cell_type": "code",
      "metadata": {
        "id": "iPjxMy3myL5G",
        "colab_type": "code",
        "colab": {}
      },
      "source": [
        "import numpy as np"
      ],
      "execution_count": 0,
      "outputs": []
    },
    {
      "cell_type": "markdown",
      "metadata": {
        "id": "M7Fxl-TpSb93",
        "colab_type": "text"
      },
      "source": [
        "Высчитываем меру жаккара:"
      ]
    },
    {
      "cell_type": "code",
      "metadata": {
        "id": "vGSkJXnJyC_D",
        "colab_type": "code",
        "colab": {}
      },
      "source": [
        "mean0 = np.mean(pr0[0])"
      ],
      "execution_count": 0,
      "outputs": []
    },
    {
      "cell_type": "markdown",
      "metadata": {
        "id": "aNfQzyh6SnWD",
        "colab_type": "text"
      },
      "source": [
        "Самые частотные ошибки:"
      ]
    },
    {
      "cell_type": "code",
      "metadata": {
        "id": "QI122_J0yUNT",
        "colab_type": "code",
        "outputId": "5679eaf7-0470-41cb-ddb3-eb7d95008ef0",
        "colab": {
          "base_uri": "https://localhost:8080/",
          "height": 408
        }
      },
      "source": [
        "pr0[1]"
      ],
      "execution_count": 226,
      "outputs": [
        {
          "output_type": "execute_result",
          "data": {
            "text/plain": [
              "[(('В', ('NOUN', 'inan', 'masc', 'sing', 'nomn\\n'), ('PREP\\n',)), 127),\n",
              " (('.', ('SENT\\n',), ('PNCT\\n',)), 116),\n",
              " (('Я',\n",
              "   ('NOUN', 'inan', 'masc', 'sing', 'nomn\\n'),\n",
              "   ('NPRO', '1per', 'sing', 'nomn\\n')),\n",
              "  51),\n",
              " (('Не', ('NOUN', 'inan', 'masc', 'sing', 'nomn\\n'), ('PRCL\\n',)), 48),\n",
              " ((':', ('SENT\\n',), ('PNCT\\n',)), 35),\n",
              " (('Он',\n",
              "   ('NOUN', 'inan', 'masc', 'sing', 'nomn\\n'),\n",
              "   ('NPRO', 'masc', '3per', 'Anph', 'sing', 'nomn\\n')),\n",
              "  30),\n",
              " (('»', ('PNCT\\n',), ('SENT\\n',)), 28),\n",
              " ((',', ('PNCT\\n',), ('SENT\\n',)), 28),\n",
              " (('Ссылки',\n",
              "   ('NOUN', 'inan', 'masc', 'sing', 'nomn\\n'),\n",
              "   ('NOUN', 'inan', 'femn', 'plur', 'nomn\\n')),\n",
              "  25),\n",
              " (('Архивировано',\n",
              "   ('NOUN', 'inan', 'masc', 'sing', 'nomn\\n'),\n",
              "   ('PRTS', 'impf', 'past', 'pssv', 'neut', 'sing\\n')),\n",
              "  24)]"
            ]
          },
          "metadata": {
            "tags": []
          },
          "execution_count": 226
        }
      ]
    },
    {
      "cell_type": "markdown",
      "metadata": {
        "id": "qYYOK8YaNyPf",
        "colab_type": "text"
      },
      "source": [
        "Делаем то же самое, меняя каждый раз тестовую и трэйновые части."
      ]
    },
    {
      "cell_type": "code",
      "metadata": {
        "id": "g1N9hE9qS2u2",
        "colab_type": "code",
        "outputId": "7f6e2843-dbb3-4d6d-e49c-1bad6925a1b2",
        "colab": {
          "base_uri": "https://localhost:8080/",
          "height": 444
        }
      },
      "source": [
        "!./bin/train-tree-tagger lexicon.txt open_class.txt corpus_train12.txt model_oc "
      ],
      "execution_count": 157,
      "outputs": [
        {
          "output_type": "stream",
          "text": [
            "\n",
            "train-tree-tagger -cl 2 -dtg 0.50 -sw 1.00 -ecw 0.15 -atg 1.20 lexicon.txt open_class.txt corpus_train12.txt model_oc\n",
            "\n",
            "\treading the lexicon ...\n",
            "\t\treading the tagset ...\n",
            "\t\treading the lemmas ...\n",
            "\t\treading the entries ...\n",
            "\t\tsorting the lexicon ...\n",
            "\t\treading the open class tags ...\n",
            "\tcalculating tag frequencies ...\n",
            "\r1000\r2000\r3000\r4000\r5000\r6000\r7000\r8000\r9000\r10000\r11000\r12000\r13000\r14000\r15000\r16000\r17000\r18000\r19000\r20000\r21000\r22000\r23000\r24000\r25000\r26000\r27000\r28000\r29000\r30000\r31000\r32000\r33000\r34000\r35000\tmaking affix tree ...\n",
            "prefix lexicon: 807 nodes\n",
            "suffix lexicon: 1800 nodes\n",
            "\treading classes ...\n",
            "\tmaking ngram table ...\n",
            "\r1000\t904\r2000\t1777\r3000\t2558\r4000\t3320\r5000\t4072\r6000\t4812\r7000\t5371\r8000\t6087\r9000\t6798\r10000\t7441\r11000\t7955\r12000\t8462\r13000\t9030\r14000\t9512\r15000\t10083\r16000\t10618\r17000\t10910\r18000\t11263\r19000\t11670\r20000\t12122\r21000\t12603\r22000\t13072\r23000\t13496\r24000\t14026\r25000\t14524\r26000\t14982\r27000\t15371\r28000\t15663\r29000\t16086\r30000\t16539\r31000\t16998\r32000\t17391\r33000\t17750\r34000\t18112\r35000\t18574\r36000\t19088\r37000\t19553\r38000\t19976\r39000\t20426\r40000\t20815\r41000\t21139\r42000\t21500\r43000\t21885\r44000\t22081\r44071\t22097\n",
            "finished.\n",
            "\tmaking decision tree ...\n",
            "94\tsaving parameters ...\n",
            "\n",
            "Number of nodes: 95\n",
            "Max. path length: 16\n",
            "\n",
            "done.\n"
          ],
          "name": "stdout"
        }
      ]
    },
    {
      "cell_type": "code",
      "metadata": {
        "id": "3uS9AWzhS8qJ",
        "colab_type": "code",
        "outputId": "f29be2b3-a12d-4afc-9b8f-6e5e68904d32",
        "colab": {
          "base_uri": "https://localhost:8080/",
          "height": 70
        }
      },
      "source": [
        "!./bin/tree-tagger model_oc corp_test0.txt output1.txt"
      ],
      "execution_count": 158,
      "outputs": [
        {
          "output_type": "stream",
          "text": [
            "\treading parameters ...\n",
            "\ttagging ...\n",
            "\r1000\r2000\r3000\r4000\r5000\r6000\r7000\r8000\r9000\r10000\r11000\r12000\r13000\r14000\r15000\r16000\r17000\r18000\r19000\r20000\r21000\r22000\r23000\r24000\r25000\r26000\r27000\t finished.\n"
          ],
          "name": "stdout"
        }
      ]
    },
    {
      "cell_type": "code",
      "metadata": {
        "id": "SACD13MUPr7E",
        "colab_type": "code",
        "colab": {}
      },
      "source": [
        "pr1 = pred('corpus_train0.txt', 'output1.txt')"
      ],
      "execution_count": 0,
      "outputs": []
    },
    {
      "cell_type": "code",
      "metadata": {
        "id": "ZOJ61ThAPsGU",
        "colab_type": "code",
        "colab": {}
      },
      "source": [
        "mean1 = np.mean(pr1[0])"
      ],
      "execution_count": 0,
      "outputs": []
    },
    {
      "cell_type": "markdown",
      "metadata": {
        "id": "Rz9WOeWGSyuQ",
        "colab_type": "text"
      },
      "source": [
        "Частотные ошибки"
      ]
    },
    {
      "cell_type": "code",
      "metadata": {
        "id": "Nv-6PnuIPsQa",
        "colab_type": "code",
        "colab": {
          "base_uri": "https://localhost:8080/",
          "height": 301
        },
        "outputId": "7a1be9be-c357-4024-9eae-194bba593af6"
      },
      "source": [
        "pr1[1]"
      ],
      "execution_count": 228,
      "outputs": [
        {
          "output_type": "execute_result",
          "data": {
            "text/plain": [
              "[(('В', ('NOUN', 'inan', 'masc', 'sing', 'nomn\\n'), ('PREP\\n',)), 172),\n",
              " (('.', ('SENT\\n',), ('PNCT\\n',)), 117),\n",
              " (('Я',\n",
              "   ('NOUN', 'inan', 'masc', 'sing', 'nomn\\n'),\n",
              "   ('NPRO', '1per', 'sing', 'nomn\\n')),\n",
              "  53),\n",
              " (('»', ('PNCT\\n',), ('SENT\\n',)), 49),\n",
              " ((',', ('SENT\\n',), ('PNCT\\n',)), 47),\n",
              " ((':', ('SENT\\n',), ('PNCT\\n',)), 45),\n",
              " (('На', ('NOUN', 'inan', 'masc', 'sing', 'nomn\\n'), ('PREP\\n',)), 44),\n",
              " (('Не', ('NOUN', 'inan', 'masc', 'sing', 'nomn\\n'), ('PRCL\\n',)), 42),\n",
              " (('И', ('NOUN', 'inan', 'masc', 'sing', 'nomn\\n'), ('CONJ\\n',)), 41),\n",
              " (('Мы',\n",
              "   ('NOUN', 'inan', 'masc', 'sing', 'nomn\\n'),\n",
              "   ('NPRO', '1per', 'plur', 'nomn\\n')),\n",
              "  41)]"
            ]
          },
          "metadata": {
            "tags": []
          },
          "execution_count": 228
        }
      ]
    },
    {
      "cell_type": "markdown",
      "metadata": {
        "id": "9UbPfYTdRxXN",
        "colab_type": "text"
      },
      "source": [
        "И последний раз"
      ]
    },
    {
      "cell_type": "code",
      "metadata": {
        "id": "q5Sk5OMjPsZr",
        "colab_type": "code",
        "colab": {
          "base_uri": "https://localhost:8080/",
          "height": 444
        },
        "outputId": "c7ab690b-6cfe-4c8a-b2c9-33f9f526bba2"
      },
      "source": [
        "!./bin/train-tree-tagger lexicon.txt open_class.txt corpus_train02.txt model_oc"
      ],
      "execution_count": 163,
      "outputs": [
        {
          "output_type": "stream",
          "text": [
            "\n",
            "train-tree-tagger -cl 2 -dtg 0.50 -sw 1.00 -ecw 0.15 -atg 1.20 lexicon.txt open_class.txt corpus_train02.txt model_oc\n",
            "\n",
            "\treading the lexicon ...\n",
            "\t\treading the tagset ...\n",
            "\t\treading the lemmas ...\n",
            "\t\treading the entries ...\n",
            "\t\tsorting the lexicon ...\n",
            "\t\treading the open class tags ...\n",
            "\tcalculating tag frequencies ...\n",
            "\r1000\r2000\r3000\r4000\r5000\r6000\r7000\r8000\r9000\r10000\r11000\r12000\r13000\r14000\r15000\r16000\r17000\r18000\r19000\r20000\r21000\r22000\r23000\r24000\r25000\r26000\r27000\r28000\r29000\r30000\r31000\r32000\r33000\r34000\r35000\r36000\r37000\r38000\tmaking affix tree ...\n",
            "prefix lexicon: 807 nodes\n",
            "suffix lexicon: 1793 nodes\n",
            "\treading classes ...\n",
            "\tmaking ngram table ...\n",
            "\r1000\t943\r2000\t1734\r3000\t2524\r4000\t3306\r5000\t3893\r6000\t4601\r7000\t5248\r8000\t5815\r9000\t6497\r10000\t7176\r11000\t7832\r12000\t8481\r13000\t9117\r14000\t9726\r15000\t10326\r16000\t10838\r17000\t11403\r18000\t12028\r19000\t12516\r20000\t13106\r21000\t13706\r22000\t14293\r23000\t14802\r24000\t15353\r25000\t15898\r26000\t16444\r27000\t17023\r28000\t17538\r29000\t17970\r30000\t18385\r31000\t18680\r32000\t19061\r33000\t19492\r34000\t19953\r35000\t20348\r36000\t20701\r37000\t21044\r38000\t21466\r39000\t21967\r40000\t22417\r41000\t22851\r42000\t23299\r43000\t23681\r44000\t23993\r45000\t24344\r46000\t24706\r47000\t24912\r47206\t24967\n",
            "finished.\n",
            "\tmaking decision tree ...\n",
            "76\tsaving parameters ...\n",
            "\n",
            "Number of nodes: 77\n",
            "Max. path length: 16\n",
            "\n",
            "done.\n"
          ],
          "name": "stdout"
        }
      ]
    },
    {
      "cell_type": "code",
      "metadata": {
        "id": "Ss64Wmr1R86z",
        "colab_type": "code",
        "colab": {
          "base_uri": "https://localhost:8080/",
          "height": 70
        },
        "outputId": "c92d407b-e82a-401e-889f-52e37f8d517b"
      },
      "source": [
        "!./bin/tree-tagger model_oc corp_test1.txt output2.txt"
      ],
      "execution_count": 164,
      "outputs": [
        {
          "output_type": "stream",
          "text": [
            "\treading parameters ...\n",
            "\ttagging ...\n",
            "\r1000\r2000\r3000\r4000\r5000\r6000\r7000\r8000\r9000\r10000\r11000\r12000\r13000\r14000\r15000\r16000\r17000\r18000\r19000\r20000\r21000\r22000\r23000\r24000\t finished.\n"
          ],
          "name": "stdout"
        }
      ]
    },
    {
      "cell_type": "code",
      "metadata": {
        "id": "JE2RC4drR9Dl",
        "colab_type": "code",
        "colab": {}
      },
      "source": [
        "pr2 = pred('corpus_train1.txt', 'output2.txt')"
      ],
      "execution_count": 0,
      "outputs": []
    },
    {
      "cell_type": "code",
      "metadata": {
        "id": "yVznxtcXR9Mk",
        "colab_type": "code",
        "colab": {}
      },
      "source": [
        "mean2 = np.mean(pr2[0])"
      ],
      "execution_count": 0,
      "outputs": []
    },
    {
      "cell_type": "markdown",
      "metadata": {
        "id": "gXIhTPKTmTDk",
        "colab_type": "text"
      },
      "source": [
        "Ошибки"
      ]
    },
    {
      "cell_type": "code",
      "metadata": {
        "id": "ZBBHGsKKR9Uk",
        "colab_type": "code",
        "colab": {
          "base_uri": "https://localhost:8080/",
          "height": 248
        },
        "outputId": "82ba72ac-462e-4cf1-821a-7c2060ce8937"
      },
      "source": [
        "pr2[1]"
      ],
      "execution_count": 230,
      "outputs": [
        {
          "output_type": "execute_result",
          "data": {
            "text/plain": [
              "[(('.', ('SENT\\n',), ('PNCT\\n',)), 151),\n",
              " (('В', ('NOUN', 'inan', 'masc', 'sing', 'nomn\\n'), ('PREP\\n',)), 143),\n",
              " (('Я',\n",
              "   ('NOUN', 'inan', 'masc', 'sing', 'nomn\\n'),\n",
              "   ('NPRO', '1per', 'sing', 'nomn\\n')),\n",
              "  70),\n",
              " ((',', ('PNCT\\n',), ('SENT\\n',)), 69),\n",
              " (('Не', ('NOUN', 'inan', 'masc', 'sing', 'nomn\\n'), ('PRCL\\n',)), 35),\n",
              " (('.', ('PNCT\\n',), ('SENT\\n',)), 33),\n",
              " (('На', ('NOUN', 'inan', 'masc', 'sing', 'nomn\\n'), ('PREP\\n',)), 31),\n",
              " (('С', ('NOUN', 'inan', 'masc', 'sing', 'nomn\\n'), ('PREP\\n',)), 28),\n",
              " (('»', ('PNCT\\n',), ('SENT\\n',)), 27),\n",
              " ((')', ('PNCT\\n',), ('SENT\\n',)), 26)]"
            ]
          },
          "metadata": {
            "tags": []
          },
          "execution_count": 230
        }
      ]
    },
    {
      "cell_type": "markdown",
      "metadata": {
        "id": "uY8bZiEndmwn",
        "colab_type": "text"
      },
      "source": [
        "Ошибки в фолдах практически не отличаются.\n",
        "Три самых частых ошибки, встречающиеся в каждом фолде: \n",
        "\n",
        "1.   модель принимает предлог \"в\" за существительное, непонятно почему :) \n",
        "2.   как и ожидалось, модель еще плохо работает на пунктуации и плохо умеет определять конец предложения\n",
        "3. определение местоимений как существительных; скорее всего модель плохо обучилась на личных местоимениях, поэтому плохо работает\n"
      ]
    },
    {
      "cell_type": "markdown",
      "metadata": {
        "id": "S5_DRwo8Zkob",
        "colab_type": "text"
      },
      "source": [
        "Проверим нашу модель напростом примере примере:"
      ]
    },
    {
      "cell_type": "code",
      "metadata": {
        "id": "s_wltcmUUiuO",
        "colab_type": "code",
        "colab": {}
      },
      "source": [
        "with open('test.txt', 'w') as test:\n",
        "  test.write('\\n'.join('Папа хочет купить ту самую машину.'.split()))"
      ],
      "execution_count": 0,
      "outputs": []
    },
    {
      "cell_type": "code",
      "metadata": {
        "id": "kq9ZCcm3WtjN",
        "colab_type": "code",
        "colab": {
          "base_uri": "https://localhost:8080/",
          "height": 70
        },
        "outputId": "bc98542f-0722-4fab-b825-26ce1a8df227"
      },
      "source": [
        "!./bin/tree-tagger model_oc test.txt out.txt"
      ],
      "execution_count": 232,
      "outputs": [
        {
          "output_type": "stream",
          "text": [
            "\treading parameters ...\n",
            "\ttagging ...\n",
            "\t finished.\n"
          ],
          "name": "stdout"
        }
      ]
    },
    {
      "cell_type": "code",
      "metadata": {
        "id": "wJSQ6Jj2YlhW",
        "colab_type": "code",
        "colab": {
          "base_uri": "https://localhost:8080/",
          "height": 124
        },
        "outputId": "4f9ee7ca-53dd-4602-e612-60a0fb14dfdc"
      },
      "source": [
        "!head out.txt"
      ],
      "execution_count": 233,
      "outputs": [
        {
          "output_type": "stream",
          "text": [
            "NOUN,inan,masc,sing,nomn\n",
            "VERB,impf,tran,sing,3per,pres,indc\n",
            "INFN,perf,tran\n",
            "ADJF,Subx,Apro,Anph,femn,sing,accs\n",
            "ADJF,Apro,femn,sing,accs\n",
            "NOUN,inan,neut,sing,gent\n"
          ],
          "name": "stdout"
        }
      ]
    },
    {
      "cell_type": "markdown",
      "metadata": {
        "id": "WxyIEPWsZOXE",
        "colab_type": "text"
      },
      "source": [
        "Вроде все верно!"
      ]
    },
    {
      "cell_type": "markdown",
      "metadata": {
        "id": "qpNuoebaS3pd",
        "colab_type": "text"
      },
      "source": [
        "Считаем среднюю меру жаккара всех обучений и среднее отклонение:"
      ]
    },
    {
      "cell_type": "code",
      "metadata": {
        "id": "hw7qyq1rR9cD",
        "colab_type": "code",
        "colab": {
          "base_uri": "https://localhost:8080/",
          "height": 35
        },
        "outputId": "4fcc626b-66bb-4785-d086-d3cc7673da21"
      },
      "source": [
        "(mean0 + mean1 + mean2)/3"
      ],
      "execution_count": 169,
      "outputs": [
        {
          "output_type": "execute_result",
          "data": {
            "text/plain": [
              "0.853955063351496"
            ]
          },
          "metadata": {
            "tags": []
          },
          "execution_count": 169
        }
      ]
    },
    {
      "cell_type": "code",
      "metadata": {
        "id": "DlCuoI36a3jw",
        "colab_type": "code",
        "colab": {
          "base_uri": "https://localhost:8080/",
          "height": 35
        },
        "outputId": "220bf73c-aa10-45a8-d531-73ed02bf4434"
      },
      "source": [
        "import statistics\n",
        "\n",
        "mean = [mean0, mean1, mean2]\n",
        "statistics.stdev(mean)"
      ],
      "execution_count": 203,
      "outputs": [
        {
          "output_type": "execute_result",
          "data": {
            "text/plain": [
              "0.0007540200081620268"
            ]
          },
          "metadata": {
            "tags": []
          },
          "execution_count": 203
        }
      ]
    },
    {
      "cell_type": "markdown",
      "metadata": {
        "id": "sO03q3mSaNSJ",
        "colab_type": "text"
      },
      "source": [
        "Мера жаккара в pymorphy - 0.9338109124901879, что почти на 0.1 больше нашей. Это легко объяснить тем, что наша модель делает больше ошибок, которые не допускает pymorphy (хотя бы умение pymorphy определять личные местоимения :) )"
      ]
    },
    {
      "cell_type": "code",
      "metadata": {
        "id": "ecXFEdu5sJGm",
        "colab_type": "code",
        "colab": {
          "base_uri": "https://localhost:8080/",
          "height": 35
        },
        "outputId": "7742d262-192b-43cf-b160-99cd8013a505"
      },
      "source": [
        "import pymorphy2\n",
        "morph = pymorphy2.MorphAnalyzer()\n",
        "\n",
        "morph.parse('я')[0].tag"
      ],
      "execution_count": 241,
      "outputs": [
        {
          "output_type": "execute_result",
          "data": {
            "text/plain": [
              "OpencorporaTag('NPRO,1per sing,nomn')"
            ]
          },
          "metadata": {
            "tags": []
          },
          "execution_count": 241
        }
      ]
    }
  ]
}