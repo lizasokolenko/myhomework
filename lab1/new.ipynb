{
 "cells": [
  {
   "cell_type": "markdown",
   "metadata": {},
   "source": [
    "Отличие __new__ и __init__:\n",
    "    \n",
    "__new__ — управляет созданием экземпляра. В качестве обязательного аргумента принимает класс(cls).\n",
    "Должен возвращать экземпляр класса для его последующей его передачи методу __init__.\n",
    "С помощью __new__ можно сделать подклассификацию неизменяемого типа. \n",
    "Таким образом, он подходит для использования с изменяемыми и неизменяемыми типами.\n",
    "\n",
    "__init__ принимает экземпляр(self) как первый аргумент и изменяет или добавляет атрибуты этого экземпляра.\n",
    "\n",
    "__new__() может возвращать объекты типов, отличных от класса, к которому он привязан. \n",
    "__init__() инициализирует только существующий экземпляр класса."
   ]
  },
  {
   "cell_type": "code",
   "execution_count": 2,
   "metadata": {},
   "outputs": [],
   "source": [
    "class People:\n",
    "    def __new__(cls, age, *args, **kwargs):\n",
    "        if age >= 18:\n",
    "            return Adult(*args, **kwargs)\n",
    "        else:\n",
    "            return Child(*args, **kwargs)\n",
    "\n",
    "class Adult:\n",
    "    def __init__(self, work, salary):\n",
    "        self.work = work\n",
    "        self.salary = salary\n",
    "\n",
    "class Child:\n",
    "    def __init__(self, school, friends):\n",
    "        self.school = school\n"
   ]
  },
  {
   "cell_type": "markdown",
   "metadata": {},
   "source": [
    "В данном примере примерно можно посмотреть что делает __new__. Он определяет подкласс экземпляров, используя условие возраста."
   ]
  }
 ],
 "metadata": {
  "kernelspec": {
   "display_name": "Python 3",
   "language": "python",
   "name": "python3"
  },
  "language_info": {
   "codemirror_mode": {
    "name": "ipython",
    "version": 3
   },
   "file_extension": ".py",
   "mimetype": "text/x-python",
   "name": "python",
   "nbconvert_exporter": "python",
   "pygments_lexer": "ipython3",
   "version": "3.6.4"
  }
 },
 "nbformat": 4,
 "nbformat_minor": 2
}
